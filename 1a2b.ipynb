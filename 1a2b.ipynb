{
  "nbformat": 4,
  "nbformat_minor": 0,
  "metadata": {
    "colab": {
      "provenance": [],
      "authorship_tag": "ABX9TyMRdmAzUIwmbWS9s1pPRSrh",
      "include_colab_link": true
    },
    "kernelspec": {
      "name": "python3",
      "display_name": "Python 3"
    },
    "language_info": {
      "name": "python"
    }
  },
  "cells": [
    {
      "cell_type": "markdown",
      "metadata": {
        "id": "view-in-github",
        "colab_type": "text"
      },
      "source": [
        "<a href=\"https://colab.research.google.com/github/ch07qqq/10732152/blob/main/1a2b.ipynb\" target=\"_parent\"><img src=\"https://colab.research.google.com/assets/colab-badge.svg\" alt=\"Open In Colab\"/></a>"
      ]
    },
    {
      "cell_type": "code",
      "source": [
        "import random\n",
        "ans = set({})\n",
        "while len(ans) < 4:\n",
        "    ans.add(random.randint(1,9))\n",
        "list(ans)\n",
        "anslist = list(map(lambda x: str(x), list(ans)))\n",
        "def inerror(x):\n",
        "    while True:\n",
        "        try:\n",
        "            int(x)\n",
        "            if type(int(x)) == int and len(set(x)) == 4 and len(x) == 4:\n",
        "                break\n",
        "            else:\n",
        "                x = input(\"請輸入四個不同數字 = \")\n",
        "        except:\n",
        "            x = input(\"請輸入四個不同數字 = \")\n",
        "    return x\n",
        "guess = input(\"猜測的密碼 = \")\n",
        "correctguess = inerror(guess)\n",
        "c = list(correctguess)\n",
        "a = 0\n",
        "b = 0\n",
        "while c != anslist:\n",
        "    for i in range(4):\n",
        "        if c[i] == anslist[i]:\n",
        "            a += 1\n",
        "        else:\n",
        "            pass\n",
        "        if c[i] in anslist and c[i] != anslist[i]:\n",
        "            b += 1\n",
        "    print(f\"{a}A{b}B\")\n",
        "    a = 0\n",
        "    b = 0\n",
        "    guess = input(\"重新猜測的密碼 = \")\n",
        "    correctguess = inerror(guess)\n",
        "    c = list(correctguess)\n",
        "print(\"恭喜答對，答案為 : \", anslist)"
      ],
      "metadata": {
        "id": "zHbBAJMYHr2D"
      },
      "execution_count": null,
      "outputs": []
    }
  ]
}